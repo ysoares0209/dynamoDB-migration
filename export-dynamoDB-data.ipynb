{
 "cells": [
  {
   "cell_type": "markdown",
   "id": "a1e3c212-f6b9-4858-b0e7-03833a148443",
   "metadata": {},
   "source": [
    "### Description\n",
    "This script will be responsible for downloading the data from a dynamoDB table in chuncks. The chunks will be a JSON with 10k items, and saved under data/"
   ]
  },
  {
   "cell_type": "code",
   "execution_count": 1,
   "id": "9a6f14fe-ab34-4c0c-8a9d-fefedf035684",
   "metadata": {},
   "outputs": [],
   "source": [
    "## imports cell\n",
    "import os\n",
    "import json\n",
    "import time\n",
    "import boto3\n",
    "from decimal import Decimal\n",
    "from concurrent.futures import ThreadPoolExecutor"
   ]
  },
  {
   "cell_type": "code",
   "execution_count": 2,
   "id": "2b458a5b-30c3-4391-b613-80a2b8b1d935",
   "metadata": {},
   "outputs": [],
   "source": [
    "## Constants\n",
    "CHUNK_SIZE = 10000\n",
    "OUTPUT_DIR = \"data\"\n",
    "LAST_KEY_FILE = os.path.join(OUTPUT_DIR, \"last_evaluated_key.json\")"
   ]
  },
  {
   "cell_type": "code",
   "execution_count": null,
   "id": "452e00ff-7a73-466e-8065-86cc1d9b71ea",
   "metadata": {},
   "outputs": [],
   "source": [
    "## Initalise client\n",
    "profile_name = ''\n",
    "table_name = ''\n",
    "\n",
    "session = boto3.Session(profile_name=profile_name)\n",
    "dynamodb = session.resource(\"dynamodb\")\n",
    "table = dynamodb.Table(table_name)"
   ]
  },
  {
   "cell_type": "code",
   "execution_count": 4,
   "id": "47aef3ad-7d26-4478-91eb-d47a32d560e5",
   "metadata": {},
   "outputs": [],
   "source": [
    "## Helpers\n",
    "class DecimalEncoder(json.JSONEncoder):\n",
    "    def default(self, obj):\n",
    "        if isinstance(obj, Decimal):\n",
    "            return float(obj)\n",
    "        return super().default(obj)\n",
    "\n",
    "def load_last_evaluated_key():\n",
    "    if os.path.exists(LAST_KEY_FILE):\n",
    "        with open(LAST_KEY_FILE, \"r\") as f:\n",
    "            return json.load(f)\n",
    "    return None\n",
    "\n",
    "def save_last_evaluated_key(key):\n",
    "    print(f\"saving last evaluated key {key}\")\n",
    "    with open(LAST_KEY_FILE, \"w\") as f:\n",
    "        json.dump(key, f, cls=DecimalEncoder)\n",
    "\n",
    "def write_chunk_file(items, index):\n",
    "    chunk_file = os.path.join(OUTPUT_DIR, f\"chunk{index}.json\")\n",
    "    with open(chunk_file, 'w') as f:\n",
    "        json.dump(items, f, indent=2, cls=DecimalEncoder)\n",
    "    print(f\"Saved {len(items)} items to {chunk_file}.\")"
   ]
  },
  {
   "cell_type": "code",
   "execution_count": 5,
   "id": "6351285f-a6aa-41a7-b18d-420473903bf3",
   "metadata": {},
   "outputs": [],
   "source": [
    "## main implementation\n",
    "def download_dynamodb_table_in_chunks():\n",
    "    start_time = time.time()  # ⏱️ Start timer\n",
    "    \n",
    "    # if the previous execution failed, go back from the previously saved last evaluated key\n",
    "    last_evaluated_key = load_last_evaluated_key()\n",
    "    print(f\"last evaluated key: {last_evaluated_key}\")\n",
    "    \n",
    "    # We'll accumulate items in a list until we reach CHUNK_SIZE\n",
    "    chunk_items = []\n",
    "    chunk_index = 1\n",
    "    total_items_downloaded = 0\n",
    "    \n",
    "    while True:\n",
    "        print(f\"loop iteration. chunk items: {len(chunk_items)}, chunk index: {chunk_index}, total items downloaded: {total_items_downloaded}\")\n",
    "        # Build the scan parameters\n",
    "        scan_params = { 'Limit': CHUNK_SIZE }\n",
    "        if last_evaluated_key:\n",
    "            scan_params['ExclusiveStartKey'] = last_evaluated_key\n",
    "\n",
    "        response = table.scan(**scan_params)\n",
    "        page_items = response.get('Items', [])\n",
    "\n",
    "        # Accumulate\n",
    "        for item in page_items:\n",
    "            chunk_items.append(item)\n",
    "\n",
    "            # If we have enough items for one chunk, write it out\n",
    "            if len(chunk_items) == CHUNK_SIZE:\n",
    "                print(\"chunk filled - writting output\")\n",
    "                write_chunk_file(chunk_items, chunk_index)\n",
    "                total_items_downloaded += len(chunk_items)\n",
    "                chunk_items.clear()\n",
    "                chunk_index += 1\n",
    "\n",
    "                # Save progress\n",
    "                last_evaluated_key = response.get('LastEvaluatedKey', None)\n",
    "                if last_evaluated_key:\n",
    "                    save_last_evaluated_key(last_evaluated_key)\n",
    "                print(\"chunk and last evaluated key saved\")\n",
    "        \n",
    "        # Update last evaluated key for next iteration\n",
    "        last_evaluated_key = response.get('LastEvaluatedKey', None)\n",
    "\n",
    "        # If no more pages to read, break out\n",
    "        if not last_evaluated_key:\n",
    "            break\n",
    "\n",
    "    # After the loop, we might have leftover items smaller than CHUNK_SIZE\n",
    "    if chunk_items:\n",
    "        print(\"writing last chunk\")\n",
    "        write_chunk_file(chunk_items, chunk_index)\n",
    "        total_items_downloaded += len(chunk_items)\n",
    "        chunk_items.clear()\n",
    "\n",
    "    # Clear out the last key file, since we've read the entire table\n",
    "    save_last_evaluated_key({})\n",
    "\n",
    "    elapsed = time.time() - start_time  # ⏱️ End timer\n",
    "    print(f\"Download complete. Total items downloaded: {total_items_downloaded}\")\n",
    "    print(f\"⏱️ Execution time: {elapsed:.2f} seconds\")\n",
    "    "
   ]
  },
  {
   "cell_type": "code",
   "execution_count": null,
   "id": "3ac499be-1d1f-48ef-8eb5-070b00dc3b46",
   "metadata": {},
   "outputs": [],
   "source": [
    "download_dynamodb_table_in_chunks()"
   ]
  }
 ],
 "metadata": {
  "kernelspec": {
   "display_name": "DynamoDB Migration",
   "language": "python",
   "name": "dynamodb-migration"
  },
  "language_info": {
   "codemirror_mode": {
    "name": "ipython",
    "version": 3
   },
   "file_extension": ".py",
   "mimetype": "text/x-python",
   "name": "python",
   "nbconvert_exporter": "python",
   "pygments_lexer": "ipython3",
   "version": "3.10.12"
  }
 },
 "nbformat": 4,
 "nbformat_minor": 5
}
